{
 "cells": [
  {
   "cell_type": "markdown",
   "id": "3232b18b",
   "metadata": {},
   "source": [
    "# OpenAI requests"
   ]
  },
  {
   "cell_type": "code",
   "execution_count": null,
   "id": "d28fe53e",
   "metadata": {},
   "outputs": [],
   "source": [
    "# !pip install -q openai\n",
    "\n",
    "import openai\n",
    "import os\n",
    "import requests \n",
    "import shutil\n",
    "from PIL import Image"
   ]
  },
  {
   "cell_type": "code",
   "execution_count": null,
   "id": "c1388ac4",
   "metadata": {},
   "outputs": [],
   "source": [
    "with open('key.txt', 'r') as f:\n",
    "    api_key = f.read().strip('\\n')\n",
    "    assert api_key.startswith('sk-'), 'error loading the API key'\n",
    "    \n",
    "openai.api_key = api_key"
   ]
  },
  {
   "cell_type": "code",
   "execution_count": null,
   "id": "20fc80a9",
   "metadata": {},
   "outputs": [],
   "source": [
    "prompt = '¿Who invented Linux?'\n",
    "response = openai.Completion.create(\n",
    "    model='text-davinci-003',\n",
    "    prompt=prompt,\n",
    "    temperature=0.8,\n",
    "    max_tokens=1000\n",
    ")\n",
    "\n",
    "response"
   ]
  },
  {
   "cell_type": "code",
   "execution_count": null,
   "id": "4315efa6",
   "metadata": {
    "scrolled": false
   },
   "outputs": [],
   "source": [
    "response"
   ]
  },
  {
   "cell_type": "code",
   "execution_count": null,
   "id": "34857180",
   "metadata": {},
   "outputs": [],
   "source": [
    "response.choices[0].text"
   ]
  },
  {
   "cell_type": "code",
   "execution_count": null,
   "id": "f2f85bba",
   "metadata": {},
   "outputs": [],
   "source": [
    "prompt = 'Tell me name of the largest city in the world'\n",
    "messages = [ # Roles = system, user, assistant\n",
    "    {\n",
    "        'role': 'system', 'content': 'Answer as concisely as possible.' \n",
    "    },\n",
    "    {\n",
    "        'role': 'user', 'content': prompt\n",
    "    }\n",
    "]\n",
    "\n",
    "response = openai.ChatCompletion.create(\n",
    "    model='gpt-3.5-turbo',\n",
    "    messages=messages,\n",
    "    temperature=0.8,\n",
    "    max_tokens=1000\n",
    ")"
   ]
  },
  {
   "cell_type": "code",
   "execution_count": null,
   "id": "1890ddae",
   "metadata": {},
   "outputs": [],
   "source": [
    "response.choices[0].message.content"
   ]
  },
  {
   "cell_type": "code",
   "execution_count": null,
   "id": "aa183cfb",
   "metadata": {},
   "outputs": [],
   "source": [
    "response = openai.ChatCompletion.create(\n",
    "    model='gpt-3.5-turbo',\n",
    "    messages=[{\"role\":\"user\", \"content\": \"The name of the longest river in the World is ...\"}],\n",
    "    temperature=0.7,\n",
    "    max_tokens=100\n",
    ")\n",
    "\n",
    "response"
   ]
  },
  {
   "cell_type": "code",
   "execution_count": null,
   "id": "3fbccb9b",
   "metadata": {},
   "outputs": [],
   "source": [
    "response.usage.total_tokens # Returns how many token were used"
   ]
  },
  {
   "cell_type": "code",
   "execution_count": null,
   "id": "aec3d1f4",
   "metadata": {},
   "outputs": [],
   "source": [
    "prompt = 'Who won the FIFA world cup in 1990? What was the final score?'\n",
    "messages = [\n",
    "    {\n",
    "        'role': 'system', 'content': 'You are a good and smart assistant.'\n",
    "    },\n",
    "    {\n",
    "        'role': 'user', 'content': prompt\n",
    "    }\n",
    "]\n",
    "\n",
    "response = openai.ChatCompletion.create(\n",
    "    model='gpt-3.5-turbo',\n",
    "    messages=messages,\n",
    "    temperature=1, # between 0 and 2, default 1. higher temperature for ideas\n",
    "    top_p=0.2, # only the 20% most used tokens \n",
    "    max_tokens=256,\n",
    "    n=1, # only one answer \n",
    "    frequency_penalty=1 # avoid repetting words, might produce less quality\n",
    "    presence_penalty=0\n",
    "    #stop=[\";\", \"*\"]\n",
    ")\n",
    "\n",
    "print(response)"
   ]
  },
  {
   "cell_type": "code",
   "execution_count": null,
   "id": "b16495b2",
   "metadata": {},
   "outputs": [],
   "source": [
    "prompt = 'Explain OOP with Python'\n",
    "messages = [\n",
    "    {\n",
    "        'role': 'system', 'content': 'You explain concepts in depth using simple terms and you give examples to \\\n",
    "        help people learn. At the end of explanation you ask a question to check for understanding'\n",
    "    },\n",
    "    {\n",
    "        'role': 'user', 'content': prompt\n",
    "    }\n",
    "]\n",
    "\n",
    "response = openai.ChatCompletion.create(\n",
    "    model='gpt-3.5-turbo',\n",
    "    messages=messages,\n",
    "    temperature=0.8,\n",
    "    max_tokens=2048\n",
    ")\n",
    "\n",
    "print(response.choices[0].message.content)"
   ]
  },
  {
   "cell_type": "code",
   "execution_count": null,
   "id": "d69ce740",
   "metadata": {},
   "outputs": [],
   "source": [
    "# Prompt Engineering \n",
    "# 1. Use the latest model\n",
    "# 2. Put the instruction at the beginning of the prompt, on their own line, and separate the\n",
    "# instruction from the context \n",
    "# 3. Be specific and descriptive\n",
    "# 4 Start with zero-shot, if the results are not optimal, fine-tune by providing a couple of examples\n",
    "# 5. Reduce \"fluffy and imprecise descriptions\"\n",
    "# 6. don't say what not to do, say what to do instead\n",
    "# 7. Give hints "
   ]
  },
  {
   "cell_type": "code",
   "execution_count": null,
   "id": "2dbfb884",
   "metadata": {},
   "outputs": [],
   "source": [
    "image_prompt = 'Night rider in a post-apocalyptic world'\n",
    "\n",
    "response = openai.Image.create(\n",
    "    prompt=image_prompt,\n",
    "    n=1,\n",
    "    size='1024x1024'\n",
    ")\n",
    "\n",
    "print(response)"
   ]
  },
  {
   "cell_type": "code",
   "execution_count": null,
   "id": "7b68eb35",
   "metadata": {},
   "outputs": [],
   "source": [
    "response.data[0]"
   ]
  },
  {
   "cell_type": "code",
   "execution_count": null,
   "id": "9779520f",
   "metadata": {},
   "outputs": [],
   "source": [
    "resource = requests.get(response.data[0].url, stream=True)\n",
    "\n",
    "if resource.status_code == 200:\n",
    "    with open('dalle3.png', 'wb') as f:\n",
    "        shutil.copyfileobj(resource.raw, f)\n",
    "else:\n",
    "    print('Error acccessing the image!')\n",
    "    \n",
    "Image.open('dalle3.png')"
   ]
  }
 ],
 "metadata": {
  "kernelspec": {
   "display_name": "Python 3 (ipykernel)",
   "language": "python",
   "name": "python3"
  },
  "language_info": {
   "codemirror_mode": {
    "name": "ipython",
    "version": 3
   },
   "file_extension": ".py",
   "mimetype": "text/x-python",
   "name": "python",
   "nbconvert_exporter": "python",
   "pygments_lexer": "ipython3",
   "version": "3.10.6"
  }
 },
 "nbformat": 4,
 "nbformat_minor": 5
}
