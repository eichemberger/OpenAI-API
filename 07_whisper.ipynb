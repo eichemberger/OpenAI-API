{
 "cells": [
  {
   "cell_type": "code",
   "execution_count": 5,
   "id": "0d995966",
   "metadata": {},
   "outputs": [],
   "source": [
    "import openai\n",
    "\n",
    "with open('key.txt', 'r') as f:\n",
    "    api_key = f.read().strip('\\n')\n",
    "    assert api_key.startswith('sk-'), 'error loading the API key'\n",
    "    \n",
    "openai.api_key = api_key"
   ]
  },
  {
   "cell_type": "code",
   "execution_count": 6,
   "id": "68b43d98",
   "metadata": {},
   "outputs": [
    {
     "name": "stdout",
     "output_type": "stream",
     "text": [
      "{\n",
      "  \"text\": \"We welcome change and openness, for we believe that freedom and security go together. That the advance of human liberty can only strengthen the cause of world peace. There is one sign the Soviets can make that would be unmistakable, that would advance dramatically the cause of freedom and peace. General Secretary Gorbachev, if you seek peace, if you seek prosperity for the Soviet Union and Eastern Europe, if you seek liberalization, come here to this gate. Mr. Gorbachev, open this gate. Mr. Gorbachev, Mr. Gorbachev, tear down this wall.\"\n",
      "}\n"
     ]
    }
   ],
   "source": [
    "with open('audio/rr.mp3', 'rb') as audio_file:\n",
    "    transcript = openai.Audio.transcribe('whisper-1', audio_file)\n",
    "    print(transcript)"
   ]
  },
  {
   "cell_type": "code",
   "execution_count": 10,
   "id": "61a7166a",
   "metadata": {},
   "outputs": [
    {
     "name": "stdout",
     "output_type": "stream",
     "text": [
      "{\n",
      "  \"text\": \"Hello? Great, dad! It's really great here, with the lions. But this lion here, your BQ, is not here. He's probably sleeping inside, right? Not today. Because today the lion is not inside, but... ...not here at all. But? At the doctor's. Once a year he's examined, vaccinated, something like that. I understand. But now tell me, how was school? Good. The bandage on your forehead. Where? At the school yard? Doesn't matter. Really, dad. Doesn't matter. No, it doesn't matter. They said things about you.\"\n",
      "}\n"
     ]
    }
   ],
   "source": [
    "audio_file = open('audio/german.mp3', 'rb')\n",
    "\n",
    "with open('audio/german.mp3', 'rb') as audio_file:\n",
    "    transcript = openai.Audio.translate('whisper-1', audio_file)\n",
    "    print(transcript)"
   ]
  },
  {
   "cell_type": "code",
   "execution_count": null,
   "id": "186cf708",
   "metadata": {},
   "outputs": [],
   "source": []
  }
 ],
 "metadata": {
  "kernelspec": {
   "display_name": "Python 3 (ipykernel)",
   "language": "python",
   "name": "python3"
  },
  "language_info": {
   "codemirror_mode": {
    "name": "ipython",
    "version": 3
   },
   "file_extension": ".py",
   "mimetype": "text/x-python",
   "name": "python",
   "nbconvert_exporter": "python",
   "pygments_lexer": "ipython3",
   "version": "3.10.6"
  }
 },
 "nbformat": 4,
 "nbformat_minor": 5
}
