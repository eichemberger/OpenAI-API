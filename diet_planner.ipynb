{
 "cells": [
  {
   "cell_type": "code",
   "execution_count": null,
   "id": "baf995d7",
   "metadata": {},
   "outputs": [],
   "source": [
    "import openai\n",
    "import os \n",
    "import requests\n",
    "import shutil\n",
    "from PIL import Image\n",
    "\n",
    "with open('key.txt', 'r') as f:\n",
    "    api_key = f.read().strip('\\n')\n",
    "    assert api_key.startswith('sk-'), 'error loading the API key'\n",
    "    \n",
    "openai.api_key = api_key"
   ]
  },
  {
   "cell_type": "code",
   "execution_count": null,
   "id": "16611b00",
   "metadata": {},
   "outputs": [],
   "source": [
    "def create_meals(ingredients, kcal=2000):\n",
    "    prompt = f'''Create a healthy daily meal plan for breakfast, lunch and dinner based on the \n",
    "    following ingredients {ingredients}.\n",
    "    Explain each recipe\n",
    "    The total daily intake of calories should be below {kcal}.\n",
    "    Assign a suggestive and concise title to each meal.\n",
    "    Your answer should end with 'Titles: ' and the title of each recipe.\n",
    "    '''\n",
    "    \n",
    "    messages = [\n",
    "        {'role': 'system', 'content': 'You are a talented cook'},\n",
    "        {'role': 'user', 'content': prompt}\n",
    "    ]\n",
    "    \n",
    "    response = openai.ChatCompletion.create(\n",
    "        model='gpt-3.5-turbo',\n",
    "        messages=messages,\n",
    "        temperature=1,\n",
    "        max_tokens = 1024,\n",
    "        n=1\n",
    "    )\n",
    "    \n",
    "    return response.choices[0].message.content\n",
    "\n",
    "foods = 'broccoli, chicken, fish, vegetables, cabbage, eggs, olive oil'\n",
    "output = create_meals(foods)\n",
    "print(output)"
   ]
  },
  {
   "cell_type": "code",
   "execution_count": null,
   "id": "71230d64",
   "metadata": {},
   "outputs": [],
   "source": [
    "titles = output.splitlines()[-3:]\n",
    "\n",
    "titles = [t.strip('- ') for t in titles]\n",
    "print(titles)"
   ]
  },
  {
   "cell_type": "code",
   "execution_count": null,
   "id": "0bf783d1",
   "metadata": {},
   "outputs": [],
   "source": [
    "def create_and_save_image(title, extra=''):\n",
    "    image_prompt = f'{title}, {extra}, high quality food photography'\n",
    "    \n",
    "    response = openai.Image.create(\n",
    "        prompt=image_prompt,\n",
    "        n=1,\n",
    "        size='1024x1024'\n",
    "    )\n",
    "    \n",
    "    image_url = response.data[0].url\n",
    "    \n",
    "    image_resource = requests.get(image_url, stream=True)\n",
    "    \n",
    "    if image_resource.status_code == 200:\n",
    "        image_filename = f'{title}.png'\n",
    "        \n",
    "        with open(image_filename, 'wb') as f:\n",
    "            shutil.copyfileobj(image_resource.raw, f)\n",
    "            return image_filename\n",
    "    else:\n",
    "        print('error accessing the image')\n",
    "        return False\n",
    "    \n",
    "image_filename = create_and_save_image(titles[0], 'white background')\n",
    "\n",
    "Image.open(image_filename)"
   ]
  }
 ],
 "metadata": {
  "kernelspec": {
   "display_name": "Python 3 (ipykernel)",
   "language": "python",
   "name": "python3"
  },
  "language_info": {
   "codemirror_mode": {
    "name": "ipython",
    "version": 3
   },
   "file_extension": ".py",
   "mimetype": "text/x-python",
   "name": "python",
   "nbconvert_exporter": "python",
   "pygments_lexer": "ipython3",
   "version": "3.10.6"
  }
 },
 "nbformat": 4,
 "nbformat_minor": 5
}
