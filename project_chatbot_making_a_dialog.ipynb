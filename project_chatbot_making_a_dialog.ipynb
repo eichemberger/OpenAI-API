{
 "cells": [
  {
   "cell_type": "code",
   "execution_count": null,
   "id": "232b755e",
   "metadata": {},
   "outputs": [],
   "source": [
    "import openai\n",
    "import os\n",
    "import time\n",
    "\n",
    "with open('key.txt', 'r') as f:\n",
    "    api_key = f.read().strip('\\n')\n",
    "    assert api_key.startswith('sk-'), 'error loading the API key'\n",
    "    \n",
    "openai.api_key = api_key"
   ]
  },
  {
   "cell_type": "code",
   "execution_count": null,
   "id": "bde681b0",
   "metadata": {},
   "outputs": [],
   "source": [
    "questions = list()\n",
    "bot_responses = list()\n",
    "messages = list()\n",
    "\n",
    "system_prompt = 'Answer as concisely as possible'\n",
    "\n",
    "messages.append({'role': 'system', 'content': system_prompt})\n",
    "\n",
    "while True:\n",
    "    current_question = input('Me:')\n",
    "    \n",
    "    if current_question.lower() in ['exit', 'quit']:\n",
    "        print('I was happy to assist you. Bye bye!')\n",
    "        time.sleep(2)\n",
    "        break\n",
    "        \n",
    "    if current_question == '':\n",
    "        continue\n",
    "        \n",
    "    messages.append({'role': 'user', 'content': current_question})\n",
    "    questions.append(current_question)\n",
    "    \n",
    "    response = openai.ChatCompletion.create(\n",
    "        model='gpt-3.5-turbo',\n",
    "        messages=messages,\n",
    "        temperature=0.8\n",
    "    )\n",
    "    \n",
    "    current_response = response.choices[0].message.content\n",
    "    print(f'Assistant: {current_response}')\n",
    "    bot_responses.append(current_response)\n",
    "    messages.append({'role': 'assistant', 'content': current_response})\n",
    "    \n",
    "    print('\\n' + '-' * 50 + '\\n')\n",
    "    \n",
    "# Auditing\n",
    "print()\n",
    "print(dict(zip(questions, bot_responses)))\n",
    "print()\n",
    "print(messages)"
   ]
  }
 ],
 "metadata": {
  "kernelspec": {
   "display_name": "Python 3 (ipykernel)",
   "language": "python",
   "name": "python3"
  },
  "language_info": {
   "codemirror_mode": {
    "name": "ipython",
    "version": 3
   },
   "file_extension": ".py",
   "mimetype": "text/x-python",
   "name": "python",
   "nbconvert_exporter": "python",
   "pygments_lexer": "ipython3",
   "version": "3.10.6"
  }
 },
 "nbformat": 4,
 "nbformat_minor": 5
}
